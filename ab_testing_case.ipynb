{
 "cells": [
  {
   "cell_type": "markdown",
   "metadata": {},
   "source": [
    "# İş Problemi\n",
    "\n",
    "Facebook kısa süre önce mevcut \"maximumbidding\" adı verilen teklif verme türüne alternatif olarak yeni bir teklif türü olan \"average bidding\"’i tanıttı. \n",
    "\n",
    "Müşterilerimizden biri olan bombabomba.com, bu yeni özelliği test etmeye karar verdi ve average bidding'inmaximumbidding'den daha fazla dönüşüm getirip getirmediğini anlamak için bir A/B testi yapmak istiyor.\n",
    "\n",
    "A/B testi 1 aydır devam ediyor ve bombabomba.com şimdi sizden bu A/B testinin sonuçlarını analiz etmenizi bekliyor. Bombabomba.com için nihai başarı ölçütü Purchase'dır. Bu nedenle, istatistiksel testler için Purchase metriğine odaklanılmalıdır."
   ]
  },
  {
   "cell_type": "markdown",
   "metadata": {},
   "source": [
    "# Veri Seti Hikayesi\n",
    "\n",
    "Bir firmanın web site bilgilerini içeren bu veri setinde kullanıcıların gördükleri ve tıkladıkları reklam sayıları gibi bilgilerin yanı sıra\n",
    "buradan gelen kazanç bilgileri yer almaktadır. Kontrol ve Test grubu olmak üzere iki ayrı veri seti vardır. Bu veri setleri\n",
    "ab_testing.xlsx excel’inin ayrı sayfalarında yer almaktadır. Kontrol grubuna Maximum Bidding, test grubuna Average\n",
    "Bidding uygulanmıştır."
   ]
  },
  {
   "cell_type": "markdown",
   "metadata": {},
   "source": [
    "# Görev 1: Veriyi Hazırlama ve Analiz Etme\n",
    "\n",
    "Adım 1: ab_testing_data.xlsx adlı kontrol ve test grubu verilerinden oluşan veri setini okutunuz. Kontrol ve test grubu verilerini ayrı\n",
    "değişkenlere atayınız.\n",
    "\n",
    "Adım 2: Kontrol ve test grubu verilerini analiz ediniz.\n",
    "\n",
    "Adım 3: Analiz işleminden sonra concat metodunu kullanarak kontrol ve test grubu verilerini birleştiriniz."
   ]
  },
  {
   "cell_type": "code",
   "execution_count": 1,
   "metadata": {},
   "outputs": [],
   "source": [
    "import numpy as np\n",
    "import pandas as pd\n",
    "from scipy.stats import shapiro, levene, ttest_ind\n",
    "\n",
    "control = pd.read_excel('/Users/mericgenc/Desktop/Python - Data Science/Miuul Data Scientist Path/03 - Measurement Problems/05_case_study_I_ab_testing/ab_testing.xlsx', sheet_name='Control Group')\n",
    "test = pd.read_excel('/Users/mericgenc/Desktop/Python - Data Science/Miuul Data Scientist Path/03 - Measurement Problems/05_case_study_I_ab_testing/ab_testing.xlsx', sheet_name='Test Group')"
   ]
  },
  {
   "cell_type": "code",
   "execution_count": 2,
   "metadata": {},
   "outputs": [
    {
     "name": "stdout",
     "output_type": "stream",
     "text": [
      "<class 'pandas.core.frame.DataFrame'>\n",
      "RangeIndex: 40 entries, 0 to 39\n",
      "Data columns (total 4 columns):\n",
      " #   Column      Non-Null Count  Dtype  \n",
      "---  ------      --------------  -----  \n",
      " 0   Impression  40 non-null     float64\n",
      " 1   Click       40 non-null     float64\n",
      " 2   Purchase    40 non-null     float64\n",
      " 3   Earning     40 non-null     float64\n",
      "dtypes: float64(4)\n",
      "memory usage: 1.4 KB\n"
     ]
    }
   ],
   "source": [
    "control.info()"
   ]
  },
  {
   "cell_type": "code",
   "execution_count": 3,
   "metadata": {},
   "outputs": [
    {
     "data": {
      "text/html": [
       "<div>\n",
       "<style scoped>\n",
       "    .dataframe tbody tr th:only-of-type {\n",
       "        vertical-align: middle;\n",
       "    }\n",
       "\n",
       "    .dataframe tbody tr th {\n",
       "        vertical-align: top;\n",
       "    }\n",
       "\n",
       "    .dataframe thead th {\n",
       "        text-align: right;\n",
       "    }\n",
       "</style>\n",
       "<table border=\"1\" class=\"dataframe\">\n",
       "  <thead>\n",
       "    <tr style=\"text-align: right;\">\n",
       "      <th></th>\n",
       "      <th>count</th>\n",
       "      <th>mean</th>\n",
       "      <th>std</th>\n",
       "      <th>min</th>\n",
       "      <th>1%</th>\n",
       "      <th>25%</th>\n",
       "      <th>50%</th>\n",
       "      <th>75%</th>\n",
       "      <th>99%</th>\n",
       "      <th>max</th>\n",
       "    </tr>\n",
       "  </thead>\n",
       "  <tbody>\n",
       "    <tr>\n",
       "      <th>Impression</th>\n",
       "      <td>40.0</td>\n",
       "      <td>101711.449068</td>\n",
       "      <td>20302.157862</td>\n",
       "      <td>45475.942965</td>\n",
       "      <td>58072.042430</td>\n",
       "      <td>85726.690349</td>\n",
       "      <td>99790.701078</td>\n",
       "      <td>115212.816543</td>\n",
       "      <td>143105.791105</td>\n",
       "      <td>147539.336329</td>\n",
       "    </tr>\n",
       "    <tr>\n",
       "      <th>Click</th>\n",
       "      <td>40.0</td>\n",
       "      <td>5100.657373</td>\n",
       "      <td>1329.985498</td>\n",
       "      <td>2189.753157</td>\n",
       "      <td>2535.120793</td>\n",
       "      <td>4124.304129</td>\n",
       "      <td>5001.220602</td>\n",
       "      <td>5923.803596</td>\n",
       "      <td>7761.795112</td>\n",
       "      <td>7959.125069</td>\n",
       "    </tr>\n",
       "    <tr>\n",
       "      <th>Purchase</th>\n",
       "      <td>40.0</td>\n",
       "      <td>550.894059</td>\n",
       "      <td>134.108201</td>\n",
       "      <td>267.028943</td>\n",
       "      <td>285.770764</td>\n",
       "      <td>470.095533</td>\n",
       "      <td>531.206307</td>\n",
       "      <td>637.957088</td>\n",
       "      <td>790.187785</td>\n",
       "      <td>801.795020</td>\n",
       "    </tr>\n",
       "    <tr>\n",
       "      <th>Earning</th>\n",
       "      <td>40.0</td>\n",
       "      <td>1908.568300</td>\n",
       "      <td>302.917783</td>\n",
       "      <td>1253.989525</td>\n",
       "      <td>1267.764100</td>\n",
       "      <td>1685.847205</td>\n",
       "      <td>1975.160522</td>\n",
       "      <td>2119.802784</td>\n",
       "      <td>2481.308737</td>\n",
       "      <td>2497.295218</td>\n",
       "    </tr>\n",
       "  </tbody>\n",
       "</table>\n",
       "</div>"
      ],
      "text/plain": [
       "            count           mean           std           min            1%  \\\n",
       "Impression   40.0  101711.449068  20302.157862  45475.942965  58072.042430   \n",
       "Click        40.0    5100.657373   1329.985498   2189.753157   2535.120793   \n",
       "Purchase     40.0     550.894059    134.108201    267.028943    285.770764   \n",
       "Earning      40.0    1908.568300    302.917783   1253.989525   1267.764100   \n",
       "\n",
       "                     25%           50%            75%            99%  \\\n",
       "Impression  85726.690349  99790.701078  115212.816543  143105.791105   \n",
       "Click        4124.304129   5001.220602    5923.803596    7761.795112   \n",
       "Purchase      470.095533    531.206307     637.957088     790.187785   \n",
       "Earning      1685.847205   1975.160522    2119.802784    2481.308737   \n",
       "\n",
       "                      max  \n",
       "Impression  147539.336329  \n",
       "Click         7959.125069  \n",
       "Purchase       801.795020  \n",
       "Earning       2497.295218  "
      ]
     },
     "execution_count": 3,
     "metadata": {},
     "output_type": "execute_result"
    }
   ],
   "source": [
    "control.describe([0.01,0.25,0.5,0.75,0.99]).T"
   ]
  },
  {
   "cell_type": "code",
   "execution_count": 4,
   "metadata": {},
   "outputs": [
    {
     "name": "stdout",
     "output_type": "stream",
     "text": [
      "<class 'pandas.core.frame.DataFrame'>\n",
      "RangeIndex: 40 entries, 0 to 39\n",
      "Data columns (total 4 columns):\n",
      " #   Column      Non-Null Count  Dtype  \n",
      "---  ------      --------------  -----  \n",
      " 0   Impression  40 non-null     float64\n",
      " 1   Click       40 non-null     float64\n",
      " 2   Purchase    40 non-null     float64\n",
      " 3   Earning     40 non-null     float64\n",
      "dtypes: float64(4)\n",
      "memory usage: 1.4 KB\n"
     ]
    }
   ],
   "source": [
    "test.info()"
   ]
  },
  {
   "cell_type": "code",
   "execution_count": 5,
   "metadata": {},
   "outputs": [
    {
     "data": {
      "text/html": [
       "<div>\n",
       "<style scoped>\n",
       "    .dataframe tbody tr th:only-of-type {\n",
       "        vertical-align: middle;\n",
       "    }\n",
       "\n",
       "    .dataframe tbody tr th {\n",
       "        vertical-align: top;\n",
       "    }\n",
       "\n",
       "    .dataframe thead th {\n",
       "        text-align: right;\n",
       "    }\n",
       "</style>\n",
       "<table border=\"1\" class=\"dataframe\">\n",
       "  <thead>\n",
       "    <tr style=\"text-align: right;\">\n",
       "      <th></th>\n",
       "      <th>count</th>\n",
       "      <th>mean</th>\n",
       "      <th>std</th>\n",
       "      <th>min</th>\n",
       "      <th>1%</th>\n",
       "      <th>25%</th>\n",
       "      <th>50%</th>\n",
       "      <th>75%</th>\n",
       "      <th>99%</th>\n",
       "      <th>max</th>\n",
       "    </tr>\n",
       "  </thead>\n",
       "  <tbody>\n",
       "    <tr>\n",
       "      <th>Impression</th>\n",
       "      <td>40.0</td>\n",
       "      <td>120512.411758</td>\n",
       "      <td>18807.448712</td>\n",
       "      <td>79033.834921</td>\n",
       "      <td>79112.254954</td>\n",
       "      <td>112691.970770</td>\n",
       "      <td>119291.300775</td>\n",
       "      <td>132050.578933</td>\n",
       "      <td>158245.263797</td>\n",
       "      <td>158605.920483</td>\n",
       "    </tr>\n",
       "    <tr>\n",
       "      <th>Click</th>\n",
       "      <td>40.0</td>\n",
       "      <td>3967.549761</td>\n",
       "      <td>923.095073</td>\n",
       "      <td>1836.629861</td>\n",
       "      <td>2005.233567</td>\n",
       "      <td>3376.819024</td>\n",
       "      <td>3931.359804</td>\n",
       "      <td>4660.497911</td>\n",
       "      <td>6012.877296</td>\n",
       "      <td>6019.695079</td>\n",
       "    </tr>\n",
       "    <tr>\n",
       "      <th>Purchase</th>\n",
       "      <td>40.0</td>\n",
       "      <td>582.106097</td>\n",
       "      <td>161.152513</td>\n",
       "      <td>311.629515</td>\n",
       "      <td>325.214426</td>\n",
       "      <td>444.626828</td>\n",
       "      <td>551.355732</td>\n",
       "      <td>699.862360</td>\n",
       "      <td>876.576104</td>\n",
       "      <td>889.910460</td>\n",
       "    </tr>\n",
       "    <tr>\n",
       "      <th>Earning</th>\n",
       "      <td>40.0</td>\n",
       "      <td>2514.890733</td>\n",
       "      <td>282.730852</td>\n",
       "      <td>1939.611243</td>\n",
       "      <td>1942.784238</td>\n",
       "      <td>2280.537426</td>\n",
       "      <td>2544.666107</td>\n",
       "      <td>2761.545405</td>\n",
       "      <td>3091.940894</td>\n",
       "      <td>3171.489708</td>\n",
       "    </tr>\n",
       "  </tbody>\n",
       "</table>\n",
       "</div>"
      ],
      "text/plain": [
       "            count           mean           std           min            1%  \\\n",
       "Impression   40.0  120512.411758  18807.448712  79033.834921  79112.254954   \n",
       "Click        40.0    3967.549761    923.095073   1836.629861   2005.233567   \n",
       "Purchase     40.0     582.106097    161.152513    311.629515    325.214426   \n",
       "Earning      40.0    2514.890733    282.730852   1939.611243   1942.784238   \n",
       "\n",
       "                      25%            50%            75%            99%  \\\n",
       "Impression  112691.970770  119291.300775  132050.578933  158245.263797   \n",
       "Click         3376.819024    3931.359804    4660.497911    6012.877296   \n",
       "Purchase       444.626828     551.355732     699.862360     876.576104   \n",
       "Earning       2280.537426    2544.666107    2761.545405    3091.940894   \n",
       "\n",
       "                      max  \n",
       "Impression  158605.920483  \n",
       "Click         6019.695079  \n",
       "Purchase       889.910460  \n",
       "Earning       3171.489708  "
      ]
     },
     "execution_count": 5,
     "metadata": {},
     "output_type": "execute_result"
    }
   ],
   "source": [
    "test.describe([0.01,0.25,0.5,0.75,0.99]).T"
   ]
  },
  {
   "cell_type": "code",
   "execution_count": 6,
   "metadata": {},
   "outputs": [
    {
     "data": {
      "text/html": [
       "<div>\n",
       "<style scoped>\n",
       "    .dataframe tbody tr th:only-of-type {\n",
       "        vertical-align: middle;\n",
       "    }\n",
       "\n",
       "    .dataframe tbody tr th {\n",
       "        vertical-align: top;\n",
       "    }\n",
       "\n",
       "    .dataframe thead th {\n",
       "        text-align: right;\n",
       "    }\n",
       "</style>\n",
       "<table border=\"1\" class=\"dataframe\">\n",
       "  <thead>\n",
       "    <tr style=\"text-align: right;\">\n",
       "      <th></th>\n",
       "      <th>Impression</th>\n",
       "      <th>Click</th>\n",
       "      <th>Purchase</th>\n",
       "      <th>Earning</th>\n",
       "      <th>group</th>\n",
       "    </tr>\n",
       "  </thead>\n",
       "  <tbody>\n",
       "    <tr>\n",
       "      <th>0</th>\n",
       "      <td>82529.459271</td>\n",
       "      <td>6090.077317</td>\n",
       "      <td>665.211255</td>\n",
       "      <td>2311.277143</td>\n",
       "      <td>control</td>\n",
       "    </tr>\n",
       "    <tr>\n",
       "      <th>1</th>\n",
       "      <td>98050.451926</td>\n",
       "      <td>3382.861786</td>\n",
       "      <td>315.084895</td>\n",
       "      <td>1742.806855</td>\n",
       "      <td>control</td>\n",
       "    </tr>\n",
       "    <tr>\n",
       "      <th>2</th>\n",
       "      <td>82696.023549</td>\n",
       "      <td>4167.965750</td>\n",
       "      <td>458.083738</td>\n",
       "      <td>1797.827447</td>\n",
       "      <td>control</td>\n",
       "    </tr>\n",
       "    <tr>\n",
       "      <th>3</th>\n",
       "      <td>109914.400398</td>\n",
       "      <td>4910.882240</td>\n",
       "      <td>487.090773</td>\n",
       "      <td>1696.229178</td>\n",
       "      <td>control</td>\n",
       "    </tr>\n",
       "    <tr>\n",
       "      <th>4</th>\n",
       "      <td>108457.762630</td>\n",
       "      <td>5987.655811</td>\n",
       "      <td>441.034050</td>\n",
       "      <td>1543.720179</td>\n",
       "      <td>control</td>\n",
       "    </tr>\n",
       "    <tr>\n",
       "      <th>...</th>\n",
       "      <td>...</td>\n",
       "      <td>...</td>\n",
       "      <td>...</td>\n",
       "      <td>...</td>\n",
       "      <td>...</td>\n",
       "    </tr>\n",
       "    <tr>\n",
       "      <th>75</th>\n",
       "      <td>79234.911929</td>\n",
       "      <td>6002.213585</td>\n",
       "      <td>382.047116</td>\n",
       "      <td>2277.863984</td>\n",
       "      <td>test</td>\n",
       "    </tr>\n",
       "    <tr>\n",
       "      <th>76</th>\n",
       "      <td>130702.239410</td>\n",
       "      <td>3626.320072</td>\n",
       "      <td>449.824592</td>\n",
       "      <td>2530.841327</td>\n",
       "      <td>test</td>\n",
       "    </tr>\n",
       "    <tr>\n",
       "      <th>77</th>\n",
       "      <td>116481.873365</td>\n",
       "      <td>4702.782468</td>\n",
       "      <td>472.453725</td>\n",
       "      <td>2597.917632</td>\n",
       "      <td>test</td>\n",
       "    </tr>\n",
       "    <tr>\n",
       "      <th>78</th>\n",
       "      <td>79033.834921</td>\n",
       "      <td>4495.428177</td>\n",
       "      <td>425.359102</td>\n",
       "      <td>2595.857880</td>\n",
       "      <td>test</td>\n",
       "    </tr>\n",
       "    <tr>\n",
       "      <th>79</th>\n",
       "      <td>102257.454089</td>\n",
       "      <td>4800.068321</td>\n",
       "      <td>521.310729</td>\n",
       "      <td>2967.518390</td>\n",
       "      <td>test</td>\n",
       "    </tr>\n",
       "  </tbody>\n",
       "</table>\n",
       "<p>80 rows × 5 columns</p>\n",
       "</div>"
      ],
      "text/plain": [
       "       Impression        Click    Purchase      Earning    group\n",
       "0    82529.459271  6090.077317  665.211255  2311.277143  control\n",
       "1    98050.451926  3382.861786  315.084895  1742.806855  control\n",
       "2    82696.023549  4167.965750  458.083738  1797.827447  control\n",
       "3   109914.400398  4910.882240  487.090773  1696.229178  control\n",
       "4   108457.762630  5987.655811  441.034050  1543.720179  control\n",
       "..            ...          ...         ...          ...      ...\n",
       "75   79234.911929  6002.213585  382.047116  2277.863984     test\n",
       "76  130702.239410  3626.320072  449.824592  2530.841327     test\n",
       "77  116481.873365  4702.782468  472.453725  2597.917632     test\n",
       "78   79033.834921  4495.428177  425.359102  2595.857880     test\n",
       "79  102257.454089  4800.068321  521.310729  2967.518390     test\n",
       "\n",
       "[80 rows x 5 columns]"
      ]
     },
     "execution_count": 6,
     "metadata": {},
     "output_type": "execute_result"
    }
   ],
   "source": [
    "test['group'] = 'test'\n",
    "control['group'] = 'control'\n",
    "\n",
    "df = pd.concat([control,test],axis=0, ignore_index=True)\n",
    "df"
   ]
  },
  {
   "cell_type": "markdown",
   "metadata": {},
   "source": [
    "# Görev 2: A/B Testinin Hipotezinin Tanımlanması\n",
    "\n",
    "Adım 1: Hipotezi tanımlayınız.\n",
    "\n",
    "H0 : M1 = M2\n",
    "\n",
    "H1 : M1!= M2\n",
    "\n",
    "Adım 2: Kontrol ve test grubu için purchase (kazanç) ortalamalarını analiz ediniz."
   ]
  },
  {
   "cell_type": "code",
   "execution_count": 7,
   "metadata": {},
   "outputs": [
    {
     "data": {
      "text/html": [
       "<div>\n",
       "<style scoped>\n",
       "    .dataframe tbody tr th:only-of-type {\n",
       "        vertical-align: middle;\n",
       "    }\n",
       "\n",
       "    .dataframe tbody tr th {\n",
       "        vertical-align: top;\n",
       "    }\n",
       "\n",
       "    .dataframe thead th {\n",
       "        text-align: right;\n",
       "    }\n",
       "</style>\n",
       "<table border=\"1\" class=\"dataframe\">\n",
       "  <thead>\n",
       "    <tr style=\"text-align: right;\">\n",
       "      <th></th>\n",
       "      <th>Purchase</th>\n",
       "    </tr>\n",
       "    <tr>\n",
       "      <th>group</th>\n",
       "      <th></th>\n",
       "    </tr>\n",
       "  </thead>\n",
       "  <tbody>\n",
       "    <tr>\n",
       "      <th>control</th>\n",
       "      <td>550.894059</td>\n",
       "    </tr>\n",
       "    <tr>\n",
       "      <th>test</th>\n",
       "      <td>582.106097</td>\n",
       "    </tr>\n",
       "  </tbody>\n",
       "</table>\n",
       "</div>"
      ],
      "text/plain": [
       "           Purchase\n",
       "group              \n",
       "control  550.894059\n",
       "test     582.106097"
      ]
     },
     "execution_count": 7,
     "metadata": {},
     "output_type": "execute_result"
    }
   ],
   "source": [
    "# H0: M1 = M2 (Max Bidding ile Avg Bidding ortalamaları arasında istatistiki anlamda bir fark yoktur)\n",
    "# H1: M1 != M2 (Max Bidding ile Avg Bidding ortalamaları arasında istatistiki anlamda bir fark vardır)\n",
    "\n",
    "df.groupby('group').agg({'Purchase':'mean'})"
   ]
  },
  {
   "cell_type": "code",
   "execution_count": 8,
   "metadata": {},
   "outputs": [],
   "source": [
    "# Test Grubunun purchase ortalaması daha iyi gözüküyor. Bu tesadüfen mi oluşmuş öğrenmek için hipotez testi yapacağız."
   ]
  },
  {
   "cell_type": "markdown",
   "metadata": {},
   "source": [
    "# Görev 3: Hipotez Testinin Gerçekleştirilmesi\n",
    "\n",
    "Adım 1: Hipotez testi yapılmadan önce varsayım kontrollerini yapınız.\n",
    "\n",
    "Bunlar Normallik Varsayımı ve Varyans Homojenliğidir. Kontrol ve test grubunun normallik varsayımına uyup uymadığını Purchase değişkeni\n",
    "üzerinden ayrı ayrı test ediniz.\n",
    "\n",
    "    Normallik Varsayımı :\n",
    "    H0: Normal dağılım varsayımı sağlanmaktadır.\n",
    "    H1: Normal dağılım varsayımı sağlanmamaktadır.\n",
    "    p < 0.05 H0 RED , p > 0.05 H0 REDDEDİLEMEZ\n",
    "\n",
    "Test sonucuna göre normallik varsayımı kontrol ve test grupları için sağlanıyor mu ? Elde edilen p-value değerlerini yorumlayınız.\n",
    "\n",
    "    Varyans Homojenliği :\n",
    "    H0: Varyanslar homojendir.\n",
    "    H1: Varyanslar homojen Değildir.\n",
    "    p < 0.05 H0 RED , p > 0.05 H0 REDDEDİLEMEZ\n",
    "    Kontrol ve test grubu için varyans homojenliğinin sağlanıp sağlanmadığını Purchase değişkeni üzerinden test ediniz.\n",
    "    Test sonucuna göre normallik varsayımı sağlanıyor mu? Elde edilen p-value değerlerini yorumlayınız.\n",
    "\n",
    "Adım 2: Normallik Varsayımı ve Varyans Homojenliği sonuçlarına göre uygun testi seçiniz.\n",
    "\n",
    "Adım 3: Test sonucunda elde edilen p_value değerini göz önünde bulundurarak kontrol ve test grubu satın alma ortalamaları arasında istatistiki\n",
    "olarak anlamlı bir fark olup olmadığını yorumlayınız."
   ]
  },
  {
   "cell_type": "code",
   "execution_count": 9,
   "metadata": {},
   "outputs": [
    {
     "name": "stdout",
     "output_type": "stream",
     "text": [
      "Test Stat = 0.9773, p-value = 0.5891\n"
     ]
    }
   ],
   "source": [
    "test_stat, pvalue = shapiro(df.loc[df['group']=='control', 'Purchase'])\n",
    "print('Test Stat = %.4f, p-value = %.4f' % (test_stat, pvalue))"
   ]
  },
  {
   "cell_type": "code",
   "execution_count": 10,
   "metadata": {},
   "outputs": [
    {
     "name": "stdout",
     "output_type": "stream",
     "text": [
      "Test Stat = 0.9589, p-value = 0.1541\n"
     ]
    }
   ],
   "source": [
    "test_stat, pvalue = shapiro(df.loc[df['group']=='test', 'Purchase'])\n",
    "print('Test Stat = %.4f, p-value = %.4f' % (test_stat, pvalue))"
   ]
  },
  {
   "cell_type": "code",
   "execution_count": 11,
   "metadata": {},
   "outputs": [],
   "source": [
    "# Kontrol Grubunun da Test Grubunun da p-value'su 0.05'in üzerindedir. Bu durumda H0'ı reddedemiyoruz. Normallik varsayımı sağlanmaktadır."
   ]
  },
  {
   "cell_type": "code",
   "execution_count": 12,
   "metadata": {},
   "outputs": [
    {
     "name": "stdout",
     "output_type": "stream",
     "text": [
      "Test Stat = 2.6393, p-value = 0.1083\n"
     ]
    }
   ],
   "source": [
    "# Varyans Homojenliği;\n",
    "\n",
    "test_stat, pvalue = levene(df.loc[df['group']=='test', 'Purchase'],\n",
    "                           df.loc[df['group']=='control', 'Purchase'])\n",
    "print('Test Stat = %.4f, p-value = %.4f' % (test_stat, pvalue))"
   ]
  },
  {
   "cell_type": "code",
   "execution_count": 13,
   "metadata": {},
   "outputs": [],
   "source": [
    "# p-value 0.05'ten büyük olduğu için H0'ı reddedemiyoruz. Yani varyans homojendir.\n",
    "# İki varsayım da sağlandığı için bağımsız iki örneklem t testi (parametrik test) yapacağız"
   ]
  },
  {
   "cell_type": "code",
   "execution_count": 14,
   "metadata": {},
   "outputs": [
    {
     "name": "stdout",
     "output_type": "stream",
     "text": [
      "Test Stat = 0.9416, p-value = 0.3493\n"
     ]
    }
   ],
   "source": [
    "test_stat, pvalue = ttest_ind(test['Purchase'],\n",
    "                              control['Purchase'],\n",
    "                              equal_var=True)\n",
    "\n",
    "print('Test Stat = %.4f, p-value = %.4f' % (test_stat, pvalue))"
   ]
  },
  {
   "cell_type": "code",
   "execution_count": 15,
   "metadata": {},
   "outputs": [],
   "source": [
    "# p_value 0.05'ten büyük çıktı. Yani H0'ı reddedemiyoruz. Bu durumda kontrol ve test grubu purchase ortalamaları arasında istatistiki olarak anlamlı bir fark yoktur."
   ]
  },
  {
   "cell_type": "markdown",
   "metadata": {},
   "source": [
    "# Görev 4: Sonuçların Analizi\n",
    "\n",
    "Adım 1: Hangi testi kullandınız, sebeplerini belirtiniz.\n",
    "\n",
    "Adım 2: Elde ettiğiniz test sonuçlarına göre müşteriye tavsiyede bulununuz."
   ]
  },
  {
   "cell_type": "markdown",
   "metadata": {},
   "source": [
    "Önce Normallik Varsayımı testi yapılmıştır. İki grup da normal dağılımda olduğu için Varyans Homojenliğine baktık. Bu da sağlandığı için Bağımsız İki Örneklem T Testi yani Parametric Test yaptık."
   ]
  },
  {
   "cell_type": "markdown",
   "metadata": {},
   "source": [
    "Test sonuçlarına göre iki grup arasında anlamlı bir fark olmadığını bulduk. Bu yüzden müşterinin bir değişiklik yapması zorunlu değildir. İstediği yöntem ile devam edebilir.\n",
    "Ancak buradaki diğer istatistiklerdeki farklılıklara da bakılmalıdır. Tıklanma, Etkileşim, Kazanç ve Dönüşüm Oranlarındaki farklılıklara göre hangi yöntemin daha kazançlı olduğuna karar verilebilir.\n",
    "Tıklama başına para ödendiği için hangi yöntemde tıklama oranının daha düşük olduğu tespit edilip Click Through Rate oranına bakılır.\n",
    "İki grup gözlenmeye devam edilir."
   ]
  }
 ],
 "metadata": {
  "kernelspec": {
   "display_name": "Python 3.9.12 ('genc_env')",
   "language": "python",
   "name": "python3"
  },
  "language_info": {
   "codemirror_mode": {
    "name": "ipython",
    "version": 3
   },
   "file_extension": ".py",
   "mimetype": "text/x-python",
   "name": "python",
   "nbconvert_exporter": "python",
   "pygments_lexer": "ipython3",
   "version": "3.9.12"
  },
  "orig_nbformat": 4,
  "vscode": {
   "interpreter": {
    "hash": "e3959f86467369a69e2ca2d0e55f82e2aeae31d60f101d47d0664eee6a259f95"
   }
  }
 },
 "nbformat": 4,
 "nbformat_minor": 2
}
